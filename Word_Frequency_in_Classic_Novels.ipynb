{
  "nbformat": 4,
  "nbformat_minor": 0,
  "metadata": {
    "colab": {
      "provenance": [],
      "authorship_tag": "ABX9TyPsfx6TaNracaMJY0CMuRTn",
      "include_colab_link": true
    },
    "kernelspec": {
      "name": "python3",
      "display_name": "Python 3"
    },
    "language_info": {
      "name": "python"
    }
  },
  "cells": [
    {
      "cell_type": "markdown",
      "metadata": {
        "id": "view-in-github",
        "colab_type": "text"
      },
      "source": [
        "<a href=\"https://colab.research.google.com/github/BPavanVenkataSai/Word-Frequency-in-Classic-Novels/blob/main/Word_Frequency_in_Classic_Novels.ipynb\" target=\"_parent\"><img src=\"https://colab.research.google.com/assets/colab-badge.svg\" alt=\"Open In Colab\"/></a>"
      ]
    },
    {
      "cell_type": "code",
      "source": [
        "import requests\n",
        "from bs4 import BeautifulSoup\n",
        "import re\n",
        "import nltk\n",
        "from nltk.tokenize import word_tokenize\n",
        "from nltk.probability import FreqDist\n",
        "\n",
        "# Download necessary NLTK data files\n",
        "nltk.download('punkt')\n",
        "nltk.download('stopwords')"
      ],
      "metadata": {
        "colab": {
          "base_uri": "https://localhost:8080/"
        },
        "id": "7B193jVors-1",
        "outputId": "6743b013-dbfa-4a7e-f4b4-7bed529ccd26"
      },
      "execution_count": null,
      "outputs": [
        {
          "output_type": "stream",
          "name": "stderr",
          "text": [
            "[nltk_data] Downloading package punkt to /root/nltk_data...\n",
            "[nltk_data]   Package punkt is already up-to-date!\n",
            "[nltk_data] Downloading package stopwords to /root/nltk_data...\n",
            "[nltk_data]   Package stopwords is already up-to-date!\n"
          ]
        },
        {
          "output_type": "execute_result",
          "data": {
            "text/plain": [
              "True"
            ]
          },
          "metadata": {},
          "execution_count": 2
        }
      ]
    },
    {
      "cell_type": "code",
      "execution_count": null,
      "metadata": {
        "colab": {
          "base_uri": "https://localhost:8080/"
        },
        "id": "yW7Plk1bT0hw",
        "outputId": "d99a88eb-1d7b-43ef-fa36-18e734a880f2"
      },
      "outputs": [
        {
          "output_type": "stream",
          "name": "stdout",
          "text": [
            "[('mrs', 960), ('said', 532), ('would', 518), ('wilkins', 457), ('one', 420), ('fisher', 373), ('could', 296), ('arbuthnot', 239), ('mr', 238), ('lady', 229)]\n"
          ]
        }
      ],
      "source": [
        "# URL of the The Enchanted April text\n",
        "url = \"https://www.gutenberg.org/cache/epub/16389/pg16389.txt\"\n",
        "\n",
        "# Send a GET request to the URL\n",
        "response = requests.get(url)\n",
        "\n",
        "# Check if the request was successful\n",
        "if response.status_code == 200:\n",
        "    # Get the content of the response\n",
        "    text = response.text\n",
        "\n",
        "    # Define start and end markers for the actual content\n",
        "    start_marker = \"Chapter 1\"\n",
        "    end_marker = \"*** END OF THE PROJECT GUTENBERG EBOOK THE ENCHANTED APRIL ***\"\n",
        "\n",
        "    # Extract the content between the markers\n",
        "    start_index = text.find(start_marker)\n",
        "    end_index = text.find(end_marker)\n",
        "    content = text[start_index:end_index]\n",
        "\n",
        "    # Remove non-alphabetic characters and convert to lowercase\n",
        "    cleaned_text = re.sub(r'[^a-zA-Z\\s]', '', content).lower()\n",
        "\n",
        "    # Tokenize the text\n",
        "    tokens = word_tokenize(cleaned_text)\n",
        "\n",
        "    # Remove stopwords\n",
        "    stopwords = set(nltk.corpus.stopwords.words('english'))\n",
        "    tokens = [word for word in tokens if word not in stopwords]\n",
        "\n",
        "    # Calculate word frequency\n",
        "    fdist = FreqDist(tokens)\n",
        "\n",
        "    # Print the 10 most common words\n",
        "    most_common_words = fdist.most_common(10)\n",
        "    print(most_common_words)\n",
        "else:\n",
        "    print(\"Failed to retrieve the text.\")\n"
      ]
    }
  ]
}