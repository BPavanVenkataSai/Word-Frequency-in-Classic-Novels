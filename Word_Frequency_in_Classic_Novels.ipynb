{
  "nbformat": 4,
  "nbformat_minor": 0,
  "metadata": {
    "colab": {
      "provenance": [],
      "authorship_tag": "ABX9TyPv83UKAea/OpfRKP+qKG4R",
      "include_colab_link": true
    },
    "kernelspec": {
      "name": "python3",
      "display_name": "Python 3"
    },
    "language_info": {
      "name": "python"
    }
  },
  "cells": [
    {
      "cell_type": "markdown",
      "metadata": {
        "id": "view-in-github",
        "colab_type": "text"
      },
      "source": [
        "<a href=\"https://colab.research.google.com/github/BPavanVenkataSai/Word-Frequency-in-Classic-Novels/blob/main/Word_Frequency_in_Classic_Novels.ipynb\" target=\"_parent\"><img src=\"https://colab.research.google.com/assets/colab-badge.svg\" alt=\"Open In Colab\"/></a>"
      ]
    },
    {
      "cell_type": "code",
      "source": [
        "import requests\n",
        "from bs4 import BeautifulSoup\n",
        "import re\n",
        "import nltk\n",
        "from nltk.tokenize import word_tokenize\n",
        "from nltk.probability import FreqDist\n",
        "import matplotlib.pyplot as plt\n",
        "from wordcloud import WordCloud\n",
        "\n",
        "# Download necessary NLTK data files\n",
        "nltk.download('punkt')\n",
        "nltk.download('stopwords')"
      ],
      "metadata": {
        "colab": {
          "base_uri": "https://localhost:8080/"
        },
        "id": "7B193jVors-1",
        "outputId": "3f02e616-6aeb-4355-e6d6-be35b25cff9c"
      },
      "execution_count": 4,
      "outputs": [
        {
          "output_type": "stream",
          "name": "stderr",
          "text": [
            "[nltk_data] Downloading package punkt to /root/nltk_data...\n",
            "[nltk_data]   Package punkt is already up-to-date!\n",
            "[nltk_data] Downloading package stopwords to /root/nltk_data...\n",
            "[nltk_data]   Package stopwords is already up-to-date!\n"
          ]
        },
        {
          "output_type": "execute_result",
          "data": {
            "text/plain": [
              "True"
            ]
          },
          "metadata": {},
          "execution_count": 4
        }
      ]
    },
    {
      "cell_type": "code",
      "execution_count": 6,
      "metadata": {
        "colab": {
          "base_uri": "https://localhost:8080/"
        },
        "id": "yW7Plk1bT0hw",
        "outputId": "61c06eb0-e0b2-41c9-9f24-11fca9acc76f"
      },
      "outputs": [
        {
          "output_type": "stream",
          "name": "stdout",
          "text": [
            "[('mrs', 960), ('said', 532), ('would', 518), ('wilkins', 457), ('one', 420), ('fisher', 373), ('could', 296), ('arbuthnot', 239), ('mr', 238), ('lady', 229)]\n"
          ]
        }
      ],
      "source": [
        "# URL of the The Enchanted April text\n",
        "url = \"https://www.gutenberg.org/cache/epub/16389/pg16389.txt\"\n",
        "\n",
        "# Send a GET request to the URL\n",
        "response = requests.get(url)\n",
        "\n",
        "# Check if the request was successful\n",
        "if response.status_code == 200:\n",
        "    # Get the content of the response\n",
        "    text = response.text\n",
        "\n",
        "    # Define start and end markers for the actual content\n",
        "    start_marker = \"Chapter 1\"\n",
        "    end_marker = \"*** END OF THE PROJECT GUTENBERG EBOOK THE ENCHANTED APRIL ***\"\n",
        "\n",
        "    # Extract the content between the markers\n",
        "    start_index = text.find(start_marker)\n",
        "    end_index = text.find(end_marker)\n",
        "    content = text[start_index:end_index]\n",
        "\n",
        "    # Remove non-alphabetic characters and convert to lowercase\n",
        "    cleaned_text = re.sub(r'[^a-zA-Z\\s]', '', content).lower()\n",
        "\n",
        "    # Tokenize the text\n",
        "    tokens = word_tokenize(cleaned_text)\n",
        "\n",
        "    # Remove stopwords\n",
        "    stopwords = set(nltk.corpus.stopwords.words('english'))\n",
        "    tokens = [word for word in tokens if word not in stopwords]\n",
        "\n",
        "    # Calculate word frequency\n",
        "    fdist = FreqDist(tokens)\n",
        "\n",
        "    # Print the 10 most common words\n",
        "    most_common_words = fdist.most_common(10)\n",
        "    print(most_common_words)\n",
        "     # Extract words and counts for visualization\n",
        "    words, counts = zip(*most_common_words)\n",
        "\n",
        "   # Bar Chart\n",
        "    plt.figure(figsize=(10, 6))\n",
        "    plt.bar(words, counts, color='skyblue')\n",
        "    plt.xlabel('Words')\n",
        "    plt.ylabel('Frequency')\n",
        "    plt.title('Top 10 Most Common Words')\n",
        "    plt.savefig('top_10_words_bar_chart.png')  # Save the bar chart as a PNG file\n",
        "    plt.close()  # Close the plot to free up memory\n",
        "\n",
        "    # Pie Chart\n",
        "    plt.figure(figsize=(8, 8))\n",
        "    plt.pie(counts, labels=words, autopct='%1.1f%%', colors=plt.cm.Paired(range(len(words))))\n",
        "    plt.title('Proportion of Top 10 Most Common Words')\n",
        "    plt.savefig('top_10_words_pie_chart.png')  # Save the pie chart as a PNG file\n",
        "    plt.close()  # Close the plot to free up memory\n",
        "\n",
        "    # Word Cloud\n",
        "    wordcloud = WordCloud(width=800, height=400, background_color='white').generate_from_frequencies(fdist)\n",
        "\n",
        "    plt.figure(figsize=(10, 5))\n",
        "    plt.imshow(wordcloud, interpolation='bilinear')\n",
        "    plt.axis('off')\n",
        "    plt.title('Word Cloud of Classic Novel')\n",
        "    plt.savefig('word_cloud.png')  # Save the word cloud as a PNG file\n",
        "    plt.close()  # Close the plot to free up memory\n",
        "else:\n",
        "    print(\"Failed to retrieve the text.\")\n"
      ]
    }
  ]
}